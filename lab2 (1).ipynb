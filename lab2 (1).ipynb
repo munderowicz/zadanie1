{
 "cells": [
  {
   "cell_type": "markdown",
   "id": "b7c2acc3-e78f-4a6c-8447-db245a8da285",
   "metadata": {},
   "source": [
    "# **Tworzenie API we Flasku – Wprowadzenie**\n",
    "\n",
    "W tym ćwiczeniu nauczysz się, jak stworzyć proste API w Flasku, uruchomić je, wysyłać do niego zapytania oraz wykorzystać model decyzyjny w oparciu o podstawową regułę logiczną.\n",
    "\n",
    "## **1️⃣ Tworzenie podstawowego API**\n",
    "Najpierw utworzymy podstawową aplikację Flask.\n",
    "\n",
    "### **Zapisanie kodu API do pliku**\n",
    "W Jupyter Notebooku użyj magicznej komendy `%%file`, aby zapisać kod podstawowej aplikacji flask do pliku `app.py`: Kod znajdziesz na [cw1](https://sebkaz-teaching.github.io/RTA_2025/cw1.html)\n",
    "Jako tekst do wyświetlenie strony głównej użyj `Witaj w moim API!`."
   ]
  },
  {
   "cell_type": "code",
   "execution_count": 61,
   "id": "14c37263-583c-4c57-9454-7d1d93269999",
   "metadata": {},
   "outputs": [
    {
     "name": "stdout",
     "output_type": "stream",
     "text": [
      "Overwriting app.py\n"
     ]
    }
   ],
   "source": [
    "%%file app.py\n",
    "from flask import Flask, request, jsonify\n",
    "app = Flask(__name__)\n",
    "\n",
    "@app.route('/')\n",
    "def home():\n",
    "    return jsonify({\"message\": \"Witaj w moim API!\"})\n",
    "\n",
    "if __name__ == '__main__':\n",
    "    app.run(debug=True)\n"
   ]
  },
  {
   "cell_type": "markdown",
   "id": "e2af6c95-3ee1-41c3-8781-50e1b80f2f17",
   "metadata": {},
   "source": [
    "Teraz uruchom API w terminalu, wpisując:\n",
    "```sh\n",
    "python app.py\n",
    "```\n",
    "Flask uruchomi serwer lokalnie pod adresem `http://127.0.0.1:5000/`."
   ]
  },
  {
   "cell_type": "markdown",
   "id": "b6dbfd19-a621-45bc-aadf-5cd9a71e6eaf",
   "metadata": {},
   "source": [
    "### **Sprawdzenie działania API**\n",
    "W Jupyter Notebooku wykonaj zapytanie GET do strony głównej. Na podstawie pola `status_code` napisz wyrażenie warunkowe które dla status_code 200 wyświetli zawartość odpowiedzi (z pola `content`)."
   ]
  },
  {
   "cell_type": "code",
   "execution_count": 63,
   "id": "f292293f-29e8-488e-b681-91eef946a0c6",
   "metadata": {},
   "outputs": [
    {
     "name": "stdout",
     "output_type": "stream",
     "text": [
      "404\n"
     ]
    }
   ],
   "source": [
    "import requests\n",
    "response = requests.get(\"http://127.0.0.1:5000/\")\n",
    "\n",
    "if response.status_code == 200: \n",
    "    print(response.content) \n",
    "else:\n",
    "    print(response.status_code) "
   ]
  },
  {
   "cell_type": "markdown",
   "id": "90f91405-edaf-458c-96b3-1e03c5b6c56b",
   "metadata": {},
   "source": [
    "Jeśli wszystko działa poprawnie, zobaczysz komunikat `Witaj w moim API!`.\n",
    "---\n",
    "\n",
    "## **2️⃣ Dodanie nowej podstrony**\n",
    "Dodajmy nową podstronę `mojastrona`, która zwróci komunikat `To jest moja strona!`."
   ]
  },
  {
   "cell_type": "code",
   "execution_count": 65,
   "id": "901da667-f30f-4520-88e2-981c3cd07845",
   "metadata": {},
   "outputs": [
    {
     "name": "stdout",
     "output_type": "stream",
     "text": [
      "Overwriting app.py\n"
     ]
    }
   ],
   "source": [
    "%%file app.py\n",
    "from flask import Flask\n",
    "app = Flask(__name__)\n",
    "\n",
    "@app.route('/')\n",
    "def home():\n",
    "    return \"Witaj w moim API!\"\n",
    "\n",
    "@app.route('/mojastrona')\n",
    "def moja_strona():\n",
    "    return \"To jest moja strona!\"\n",
    "\n",
    "if __name__ == '__main__':\n",
    "    app.run(debug=True)\n"
   ]
  },
  {
   "cell_type": "markdown",
   "id": "e7bb7b21-a725-4de8-b154-2f1484bc97f5",
   "metadata": {},
   "source": [
    "Ponownie uruchom API i wykonaj zapytanie do strony `\"http://127.0.0.1:5000/mojastrona\"`:"
   ]
  },
  {
   "cell_type": "code",
   "execution_count": 67,
   "id": "c3ceade1-8619-4684-ac7c-a1b91bd0e871",
   "metadata": {},
   "outputs": [
    {
     "name": "stdout",
     "output_type": "stream",
     "text": [
      "404\n"
     ]
    }
   ],
   "source": [
    "response = requests.get(\"http://127.0.0.1:5000/mojastrona\")\n",
    "\n",
    "if response.status_code == 200: \n",
    "    print(response.content) \n",
    "else:\n",
    "    print(response.status_code) "
   ]
  },
  {
   "cell_type": "markdown",
   "id": "a13f3e1e-1689-4e19-9984-54e6e8602b67",
   "metadata": {},
   "source": [
    "Powinieneś zobaczyć: `To jest moja strona!`\n",
    "\n",
    "---\n",
    "\n",
    "## **3️⃣ Automatyczne uruchamianie serwera z Jupyter Notebook**\n",
    "Zamknij wcześniej uruchomiony serwer (`Ctrl+C` w terminalu) i uruchom go ponownie bezpośrednio z Jupyter Notebook, korzystając z `subprocess.Popen`:"
   ]
  },
  {
   "cell_type": "code",
   "execution_count": 69,
   "id": "b5aef41b-f747-4949-a676-a8b49de88c7f",
   "metadata": {},
   "outputs": [],
   "source": [
    "import subprocess\n",
    "server = subprocess.Popen([\"python\", \"app.py\"])"
   ]
  },
  {
   "cell_type": "markdown",
   "id": "6507101d-4f43-483a-a43d-2c07a3a9d23a",
   "metadata": {},
   "source": [
    "Po testach zamknij serwer wykorzystując metodę `kill`:\n"
   ]
  },
  {
   "cell_type": "code",
   "execution_count": 71,
   "id": "74fdcc71-fbcb-4602-804b-92458fab18df",
   "metadata": {},
   "outputs": [],
   "source": [
    "server.kill()"
   ]
  },
  {
   "cell_type": "markdown",
   "id": "6a02adf4-8ac0-4e3c-b1ee-0a9e1cc8933f",
   "metadata": {},
   "source": [
    "---\n",
    "\n",
    "## **4️⃣ Obsługa parametrów w adresie URL**\n",
    "Dodajemy nową podstronę `/hello`, która będzie przyjmować parametr `name`.\n",
    "\n",
    "Edytuj `app.py`, dodając odpowiedni  kod\n"
   ]
  },
  {
   "cell_type": "code",
   "execution_count": 73,
   "id": "9e42700e-e83a-4a2b-b4e8-164827a6994f",
   "metadata": {},
   "outputs": [
    {
     "name": "stdout",
     "output_type": "stream",
     "text": [
      "Overwriting app.py\n"
     ]
    }
   ],
   "source": [
    "%%file app.py\n",
    "from flask import Flask, request, jsonify\n",
    "app = Flask(__name__)\n",
    "\n",
    "@app.route('/hello')\n",
    "def hello():\n",
    "    name = request.args.get('name')\n",
    "    if name:\n",
    "        return f\"Hello {name}!\"\n",
    "    return \"Hello!\"\n",
    "\n",
    "if __name__ == '__main__':\n",
    "    app.run()"
   ]
  },
  {
   "cell_type": "code",
   "execution_count": 75,
   "id": "a68e45f8-f757-499c-8746-84409ef9944e",
   "metadata": {},
   "outputs": [
    {
     "name": "stdout",
     "output_type": "stream",
     "text": [
      "b'Hello!'\n"
     ]
    }
   ],
   "source": [
    "import requests\n",
    "res1 = requests.get(\"http://127.0.0.1:5000/hello\")\n",
    "print(res1.content)"
   ]
  },
  {
   "cell_type": "code",
   "execution_count": 77,
   "id": "0f2c52bb-d5af-41e7-936d-b72abf37eb71",
   "metadata": {},
   "outputs": [
    {
     "name": "stdout",
     "output_type": "stream",
     "text": [
      "b'Hello Sebastian!'\n"
     ]
    }
   ],
   "source": [
    "import requests\n",
    "res2 = requests.get(\"http://127.0.0.1:5000/hello?name=Sebastian\")\n",
    "print(res2.content)"
   ]
  },
  {
   "cell_type": "markdown",
   "id": "bb1f2e04-4bed-4a70-8131-b2f25f343962",
   "metadata": {},
   "source": [
    "Uruchom serwer i sprawdź działanie API:\n",
    "```python\n",
    "res1 = requests.get(\"http://127.0.0.1:5000/hello\")\n",
    "print(res1.content)  # Powinno zwrócić \"Hello!\"\n",
    "\n",
    "res2 = requests.get(\"http://127.0.0.1:5000/hello?name=Sebastian\")\n",
    "print(res2.content)  # Powinno zwrócić \"Hello Sebastian!\"\n",
    "```\n",
    "\n",
    "---"
   ]
  },
  {
   "cell_type": "markdown",
   "id": "fc1ae653-8609-49f7-a992-3ff437f96700",
   "metadata": {},
   "source": [
    "## **5️⃣ Tworzenie API z prostym modelem ML**\n",
    "Stworzymy nową podstronę `/api/v1.0/predict`, która przyjmuje dwie liczby i zwraca wynik reguły decyzyjnej:\n",
    "- Jeśli suma dwóch liczb jest większa niż 5.8, zwraca `1`.\n",
    "- W przeciwnym razie zwraca `0`.\n"
   ]
  },
  {
   "cell_type": "code",
   "execution_count": 79,
   "id": "d23657b1-5f6d-4409-a113-dfa5249181d3",
   "metadata": {},
   "outputs": [
    {
     "name": "stdout",
     "output_type": "stream",
     "text": [
      "Overwriting app.py\n"
     ]
    }
   ],
   "source": [
    "%%file app.py\n",
    "from flask import Flask, request, jsonify\n",
    "app = Flask(__name__)\n",
    "\n",
    "@app.route('/api/v1.0/predict')\n",
    "def predict():\n",
    "    try:\n",
    "        num1 = float(request.args.get('num1'))\n",
    "        num2 = float(request.args.get('num2'))\n",
    "    except (TypeError, ValueError):\n",
    "        return jsonify({\"error\": \"Nieprawidłowe dane wejściowe\"}), 400\n",
    "        \n",
    "    prediction = 1 if (num1 + num2) > 5.8 else 0\n",
    "    return jsonify({\n",
    "        \"prediction\": prediction,\n",
    "        \"features\": {\n",
    "            \"num1\": num1,\n",
    "            \"num2\": num2\n",
    "        }\n",
    "    })\n",
    "\n",
    "if __name__ == '__main__':\n",
    "    app.run()"
   ]
  },
  {
   "cell_type": "code",
   "execution_count": 83,
   "id": "4a16bd7e-4c57-4a60-982c-19f3318f5990",
   "metadata": {},
   "outputs": [
    {
     "ename": "JSONDecodeError",
     "evalue": "Expecting value: line 1 column 1 (char 0)",
     "output_type": "error",
     "traceback": [
      "\u001b[1;31m---------------------------------------------------------------------------\u001b[0m",
      "\u001b[1;31mJSONDecodeError\u001b[0m                           Traceback (most recent call last)",
      "File \u001b[1;32m~\\anaconda3\\Lib\\site-packages\\requests\\models.py:974\u001b[0m, in \u001b[0;36mResponse.json\u001b[1;34m(self, **kwargs)\u001b[0m\n\u001b[0;32m    973\u001b[0m \u001b[38;5;28;01mtry\u001b[39;00m:\n\u001b[1;32m--> 974\u001b[0m     \u001b[38;5;28;01mreturn\u001b[39;00m complexjson\u001b[38;5;241m.\u001b[39mloads(\u001b[38;5;28mself\u001b[39m\u001b[38;5;241m.\u001b[39mtext, \u001b[38;5;241m*\u001b[39m\u001b[38;5;241m*\u001b[39mkwargs)\n\u001b[0;32m    975\u001b[0m \u001b[38;5;28;01mexcept\u001b[39;00m JSONDecodeError \u001b[38;5;28;01mas\u001b[39;00m e:\n\u001b[0;32m    976\u001b[0m     \u001b[38;5;66;03m# Catch JSON-related errors and raise as requests.JSONDecodeError\u001b[39;00m\n\u001b[0;32m    977\u001b[0m     \u001b[38;5;66;03m# This aliases json.JSONDecodeError and simplejson.JSONDecodeError\u001b[39;00m\n",
      "File \u001b[1;32m~\\anaconda3\\Lib\\json\\__init__.py:346\u001b[0m, in \u001b[0;36mloads\u001b[1;34m(s, cls, object_hook, parse_float, parse_int, parse_constant, object_pairs_hook, **kw)\u001b[0m\n\u001b[0;32m    343\u001b[0m \u001b[38;5;28;01mif\u001b[39;00m (\u001b[38;5;28mcls\u001b[39m \u001b[38;5;129;01mis\u001b[39;00m \u001b[38;5;28;01mNone\u001b[39;00m \u001b[38;5;129;01mand\u001b[39;00m object_hook \u001b[38;5;129;01mis\u001b[39;00m \u001b[38;5;28;01mNone\u001b[39;00m \u001b[38;5;129;01mand\u001b[39;00m\n\u001b[0;32m    344\u001b[0m         parse_int \u001b[38;5;129;01mis\u001b[39;00m \u001b[38;5;28;01mNone\u001b[39;00m \u001b[38;5;129;01mand\u001b[39;00m parse_float \u001b[38;5;129;01mis\u001b[39;00m \u001b[38;5;28;01mNone\u001b[39;00m \u001b[38;5;129;01mand\u001b[39;00m\n\u001b[0;32m    345\u001b[0m         parse_constant \u001b[38;5;129;01mis\u001b[39;00m \u001b[38;5;28;01mNone\u001b[39;00m \u001b[38;5;129;01mand\u001b[39;00m object_pairs_hook \u001b[38;5;129;01mis\u001b[39;00m \u001b[38;5;28;01mNone\u001b[39;00m \u001b[38;5;129;01mand\u001b[39;00m \u001b[38;5;129;01mnot\u001b[39;00m kw):\n\u001b[1;32m--> 346\u001b[0m     \u001b[38;5;28;01mreturn\u001b[39;00m _default_decoder\u001b[38;5;241m.\u001b[39mdecode(s)\n\u001b[0;32m    347\u001b[0m \u001b[38;5;28;01mif\u001b[39;00m \u001b[38;5;28mcls\u001b[39m \u001b[38;5;129;01mis\u001b[39;00m \u001b[38;5;28;01mNone\u001b[39;00m:\n",
      "File \u001b[1;32m~\\anaconda3\\Lib\\json\\decoder.py:337\u001b[0m, in \u001b[0;36mJSONDecoder.decode\u001b[1;34m(self, s, _w)\u001b[0m\n\u001b[0;32m    333\u001b[0m \u001b[38;5;250m\u001b[39m\u001b[38;5;124;03m\"\"\"Return the Python representation of ``s`` (a ``str`` instance\u001b[39;00m\n\u001b[0;32m    334\u001b[0m \u001b[38;5;124;03mcontaining a JSON document).\u001b[39;00m\n\u001b[0;32m    335\u001b[0m \n\u001b[0;32m    336\u001b[0m \u001b[38;5;124;03m\"\"\"\u001b[39;00m\n\u001b[1;32m--> 337\u001b[0m obj, end \u001b[38;5;241m=\u001b[39m \u001b[38;5;28mself\u001b[39m\u001b[38;5;241m.\u001b[39mraw_decode(s, idx\u001b[38;5;241m=\u001b[39m_w(s, \u001b[38;5;241m0\u001b[39m)\u001b[38;5;241m.\u001b[39mend())\n\u001b[0;32m    338\u001b[0m end \u001b[38;5;241m=\u001b[39m _w(s, end)\u001b[38;5;241m.\u001b[39mend()\n",
      "File \u001b[1;32m~\\anaconda3\\Lib\\json\\decoder.py:355\u001b[0m, in \u001b[0;36mJSONDecoder.raw_decode\u001b[1;34m(self, s, idx)\u001b[0m\n\u001b[0;32m    354\u001b[0m \u001b[38;5;28;01mexcept\u001b[39;00m \u001b[38;5;167;01mStopIteration\u001b[39;00m \u001b[38;5;28;01mas\u001b[39;00m err:\n\u001b[1;32m--> 355\u001b[0m     \u001b[38;5;28;01mraise\u001b[39;00m JSONDecodeError(\u001b[38;5;124m\"\u001b[39m\u001b[38;5;124mExpecting value\u001b[39m\u001b[38;5;124m\"\u001b[39m, s, err\u001b[38;5;241m.\u001b[39mvalue) \u001b[38;5;28;01mfrom\u001b[39;00m \u001b[38;5;28;01mNone\u001b[39;00m\n\u001b[0;32m    356\u001b[0m \u001b[38;5;28;01mreturn\u001b[39;00m obj, end\n",
      "\u001b[1;31mJSONDecodeError\u001b[0m: Expecting value: line 1 column 1 (char 0)",
      "\nDuring handling of the above exception, another exception occurred:\n",
      "\u001b[1;31mJSONDecodeError\u001b[0m                           Traceback (most recent call last)",
      "Cell \u001b[1;32mIn[83], line 3\u001b[0m\n\u001b[0;32m      1\u001b[0m \u001b[38;5;28;01mimport\u001b[39;00m \u001b[38;5;21;01mrequests\u001b[39;00m\n\u001b[0;32m      2\u001b[0m res \u001b[38;5;241m=\u001b[39m requests\u001b[38;5;241m.\u001b[39mget(\u001b[38;5;124m'\u001b[39m\u001b[38;5;124mhttp://127.0.0.1:5000/api/v1.0/predict?num1=3&num2=4\u001b[39m\u001b[38;5;124m'\u001b[39m)\n\u001b[1;32m----> 3\u001b[0m \u001b[38;5;28mprint\u001b[39m(res\u001b[38;5;241m.\u001b[39mjson())\n",
      "File \u001b[1;32m~\\anaconda3\\Lib\\site-packages\\requests\\models.py:978\u001b[0m, in \u001b[0;36mResponse.json\u001b[1;34m(self, **kwargs)\u001b[0m\n\u001b[0;32m    974\u001b[0m     \u001b[38;5;28;01mreturn\u001b[39;00m complexjson\u001b[38;5;241m.\u001b[39mloads(\u001b[38;5;28mself\u001b[39m\u001b[38;5;241m.\u001b[39mtext, \u001b[38;5;241m*\u001b[39m\u001b[38;5;241m*\u001b[39mkwargs)\n\u001b[0;32m    975\u001b[0m \u001b[38;5;28;01mexcept\u001b[39;00m JSONDecodeError \u001b[38;5;28;01mas\u001b[39;00m e:\n\u001b[0;32m    976\u001b[0m     \u001b[38;5;66;03m# Catch JSON-related errors and raise as requests.JSONDecodeError\u001b[39;00m\n\u001b[0;32m    977\u001b[0m     \u001b[38;5;66;03m# This aliases json.JSONDecodeError and simplejson.JSONDecodeError\u001b[39;00m\n\u001b[1;32m--> 978\u001b[0m     \u001b[38;5;28;01mraise\u001b[39;00m RequestsJSONDecodeError(e\u001b[38;5;241m.\u001b[39mmsg, e\u001b[38;5;241m.\u001b[39mdoc, e\u001b[38;5;241m.\u001b[39mpos)\n",
      "\u001b[1;31mJSONDecodeError\u001b[0m: Expecting value: line 1 column 1 (char 0)"
     ]
    }
   ],
   "source": [
    "import requests\n",
    "res = requests.get(\"http://127.0.0.1:5000/api/v1.0/predict?num1=3&num2=4\")\n",
    "print(res.json())"
   ]
  },
  {
   "cell_type": "markdown",
   "id": "4ef4b5a6-387e-4d2e-b4e3-a716e5c885f5",
   "metadata": {},
   "source": [
    "Sprawdź działanie API:\n",
    "```python\n",
    "res = requests.get(\"http://127.0.0.1:5000/api/v1.0/predict?num1=3&num2=4\")\n",
    "print(res.json())  # Powinno zwrócić {\"prediction\": 1, \"features\": {\"num1\": 3.0, \"num2\": 4.0}}\n",
    "```\n",
    "\n",
    "---\n",
    "\n",
    "## **Podsumowanie**\n",
    "Po wykonaniu tego ćwiczenia studenci będą umieli:\n",
    "✅ Tworzyć podstawowe API w Flasku.  \n",
    "✅ Dodawać podstrony i obsługiwać parametry URL.  \n",
    "✅ Wysyłać zapytania GET i analizować odpowiedzi.  \n",
    "✅ Automatycznie uruchamiać serwer z Jupyter Notebook.  \n",
    "✅ Implementować prosty model decyzyjny w API.  \n",
    "\n",
    "Gotowi na kolejne wyzwania? 🚀"
   ]
  },
  {
   "cell_type": "code",
   "execution_count": null,
   "id": "e3b7263b-10bc-421e-a0f1-ff6e6cb926af",
   "metadata": {},
   "outputs": [],
   "source": [
    "%%file requirements.txt\n",
    "flask==2.0.1\n",
    "requests==2.26.0"
   ]
  },
  {
   "cell_type": "code",
   "execution_count": null,
   "id": "70dc2517-6a1d-422a-b211-aabbb0e6b1a9",
   "metadata": {},
   "outputs": [],
   "source": [
    "%%file README.md\n",
    "# Flask API z modelem decyzyjnym\n",
    "\n",
    "## Instrukcja:\n",
    "1. `pip install -r requirements.txt`\n",
    "2. `python app.py`\n",
    "3. Przetestuj: http://127.0.0.1:5000/api/v1.0/predict?num1=3&num2=4"
   ]
  }
 ],
 "metadata": {
  "kernelspec": {
   "display_name": "Python 3 (ipykernel)",
   "language": "python",
   "name": "python3"
  },
  "language_info": {
   "codemirror_mode": {
    "name": "ipython",
    "version": 3
   },
   "file_extension": ".py",
   "mimetype": "text/x-python",
   "name": "python",
   "nbconvert_exporter": "python",
   "pygments_lexer": "ipython3",
   "version": "3.12.7"
  }
 },
 "nbformat": 4,
 "nbformat_minor": 5
}
